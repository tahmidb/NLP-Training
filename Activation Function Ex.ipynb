{
 "cells": [
  {
   "cell_type": "code",
   "execution_count": 5,
   "metadata": {
    "scrolled": true
   },
   "outputs": [
    {
     "name": "stdout",
     "output_type": "stream",
     "text": [
      "Error: 11.45000000 Weight: 194.775000 Prediction: 100.25\n",
      "Error: 8.58750000 Weight: 190.481250 Prediction: 97.3875\n",
      "Error: 6.44062500 Weight: 187.260937 Prediction: 95.240625\n",
      "Error: 4.83046875 Weight: 184.845703 Prediction: 93.630469\n",
      "Error: 3.62285156 Weight: 183.034277 Prediction: 92.422852\n",
      "Error: 2.71713867 Weight: 181.675708 Prediction: 91.517139\n",
      "Error: 2.03785400 Weight: 180.656781 Prediction: 90.837854\n",
      "Error: 1.52839050 Weight: 179.892586 Prediction: 90.328391\n",
      "Error: 1.14629288 Weight: 179.319439 Prediction: 89.946293\n",
      "Error: 0.85971966 Weight: 178.889579 Prediction: 89.65972\n",
      "Error: 0.64478974 Weight: 178.567185 Prediction: 89.44479\n",
      "Error: 0.48359231 Weight: 178.325388 Prediction: 89.283592\n",
      "Error: 0.36269423 Weight: 178.144041 Prediction: 89.162694\n",
      "Error: 0.27202067 Weight: 178.008031 Prediction: 89.072021\n",
      "Error: 0.20401550 Weight: 177.906023 Prediction: 89.004016\n",
      "Error: 0.15301163 Weight: 177.829517 Prediction: 88.953012\n",
      "Error: 0.11475872 Weight: 177.772138 Prediction: 88.914759\n",
      "Error: 0.08606904 Weight: 177.729104 Prediction: 88.886069\n",
      "Error: 0.06455178 Weight: 177.696828 Prediction: 88.864552\n",
      "Error: 0.04841384 Weight: 177.672621 Prediction: 88.848414\n"
     ]
    }
   ],
   "source": [
    "#example activation function\n",
    "\n",
    "#input always has to be between 1 and -1\n",
    "input = .5\n",
    "weight = 200.5\n",
    "target = 88.8\n",
    "\n",
    "for iteration in range(20):\n",
    "    prediction = input * weight\n",
    "    error = prediction - target\n",
    "    \n",
    "    \n",
    "    delta = error\n",
    "    \n",
    "    weight_delta = delta * input\n",
    "    weight = weight - weight_delta\n",
    "    \n",
    "    print(\"Error: {0:.8f} Weight: {1:08f} Prediction: {2:.8}\".format(error, weight, prediction))"
   ]
  },
  {
   "cell_type": "code",
   "execution_count": null,
   "metadata": {},
   "outputs": [],
   "source": []
  }
 ],
 "metadata": {
  "kernelspec": {
   "display_name": "Python 3",
   "language": "python",
   "name": "python3"
  },
  "language_info": {
   "codemirror_mode": {
    "name": "ipython",
    "version": 3
   },
   "file_extension": ".py",
   "mimetype": "text/x-python",
   "name": "python",
   "nbconvert_exporter": "python",
   "pygments_lexer": "ipython3",
   "version": "3.7.4"
  }
 },
 "nbformat": 4,
 "nbformat_minor": 2
}
